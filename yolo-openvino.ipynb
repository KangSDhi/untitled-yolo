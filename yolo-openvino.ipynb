{
 "cells": [
  {
   "cell_type": "code",
   "id": "initial_id",
   "metadata": {
    "collapsed": true,
    "ExecuteTime": {
     "end_time": "2025-08-27T02:52:05.494403Z",
     "start_time": "2025-08-27T02:52:04.634655Z"
    }
   },
   "source": [
    "from openvino import Core\n",
    "\n",
    "core = Core()\n",
    "\n",
    "# Cek semua device yang terdeteksi OpenVINO\n",
    "available_devices = core.available_devices\n",
    "print(\"Available devices:\", available_devices)"
   ],
   "outputs": [
    {
     "name": "stdout",
     "output_type": "stream",
     "text": [
      "Available devices: ['CPU', 'GPU', 'NPU']\n"
     ]
    }
   ],
   "execution_count": 1
  },
  {
   "metadata": {
    "ExecuteTime": {
     "end_time": "2025-08-27T02:53:01.323435Z",
     "start_time": "2025-08-27T02:52:56.630650Z"
    }
   },
   "cell_type": "code",
   "source": [
    "from ultralytics import YOLO\n",
    "import cv2\n",
    "\n",
    "# Load a YOLO11n PyTorch model\n",
    "model = YOLO(\"yolo11n.pt\")\n",
    "\n",
    "# Export the model\n",
    "model.export(format=\"openvino\")  # creates 'yolo11n_openvino_model/'\n",
    "\n",
    "# Load the exported OpenVINO model\n",
    "ov_model = YOLO(\"yolo11n_openvino_model/\")"
   ],
   "id": "8e2e1528df9d06f1",
   "outputs": [
    {
     "name": "stderr",
     "output_type": "stream",
     "text": [
      "C:\\Users\\kangs\\anaconda3\\envs\\hello-yolo\\Lib\\site-packages\\requests\\__init__.py:86: RequestsDependencyWarning: Unable to find acceptable character detection dependency (chardet or charset_normalizer).\n",
      "  warnings.warn(\n"
     ]
    },
    {
     "name": "stdout",
     "output_type": "stream",
     "text": [
      "Ultralytics 8.3.185  Python-3.12.11 torch-2.8.0+xpu CPU (Intel Core(TM) Ultra 7 258V)\n",
      "YOLO11n summary (fused): 100 layers, 2,616,248 parameters, 0 gradients, 6.5 GFLOPs\n",
      "\n",
      "\u001B[34m\u001B[1mPyTorch:\u001B[0m starting from 'yolo11n.pt' with input shape (1, 3, 640, 640) BCHW and output shape(s) (1, 84, 8400) (5.4 MB)\n",
      "\n",
      "\u001B[34m\u001B[1mOpenVINO:\u001B[0m starting export with openvino 2025.2.0-19140-c01cd93e24d-releases/2025/2...\n",
      "\u001B[34m\u001B[1mOpenVINO:\u001B[0m export success  1.9s, saved as 'yolo11n_openvino_model\\' (10.4 MB)\n",
      "\n",
      "Export complete (2.3s)\n",
      "Results saved to \u001B[1mC:\\Users\\kangs\\DataspellProjects\\hello-yolo\u001B[0m\n",
      "Predict:         yolo predict task=detect model=yolo11n_openvino_model imgsz=640  \n",
      "Validate:        yolo val task=detect model=yolo11n_openvino_model imgsz=640 data=/usr/src/ultralytics/ultralytics/cfg/datasets/coco.yaml  \n",
      "Visualize:       https://netron.app\n",
      "WARNING Unable to automatically guess model task, assuming 'task=detect'. Explicitly define task for your model, i.e. 'task=detect', 'segment', 'classify','pose' or 'obb'.\n"
     ]
    }
   ],
   "execution_count": 2
  },
  {
   "metadata": {
    "ExecuteTime": {
     "end_time": "2025-08-27T03:10:24.925383Z",
     "start_time": "2025-08-27T03:09:40.418965Z"
    }
   },
   "cell_type": "code",
   "source": [
    "import cv2\n",
    "from ultralytics import YOLO\n",
    "\n",
    "# Load model OpenVINO\n",
    "ov_model = YOLO(\"yolo11n_openvino_model/\")\n",
    "\n",
    "# Path video input\n",
    "video_path = \"datasets/video/2252223-uhd_3840_2160_30fps.mp4\"\n",
    "\n",
    "# Buka video input\n",
    "cap = cv2.VideoCapture(video_path)\n",
    "if not cap.isOpened():\n",
    "    print(\"❌ Gagal membuka video:\", video_path)\n",
    "    exit()\n",
    "\n",
    "# Setup VideoWriter untuk output\n",
    "fourcc = cv2.VideoWriter_fourcc(*\"mp4v\")\n",
    "out = cv2.VideoWriter(\n",
    "    \"output_detect.mp4\",\n",
    "    fourcc,\n",
    "    cap.get(cv2.CAP_PROP_FPS),\n",
    "    (int(cap.get(cv2.CAP_PROP_FRAME_WIDTH)), int(cap.get(cv2.CAP_PROP_FRAME_HEIGHT)))\n",
    ")\n",
    "\n",
    "while True:\n",
    "    ret, frame = cap.read()\n",
    "    if not ret:\n",
    "        break\n",
    "\n",
    "    # Inference dengan OpenVINO di Intel GPU\n",
    "    results = ov_model.predict(frame, device=\"intel:gpu\", verbose=False)\n",
    "\n",
    "    # Annotasi hasil deteksi ke frame\n",
    "    annotated_frame = results[0].plot()\n",
    "\n",
    "    # Simpan frame ke file output\n",
    "    out.write(annotated_frame)\n",
    "\n",
    "cap.release()\n",
    "out.release()\n",
    "print(\"✅ Hasil deteksi tersimpan di output_detect.mp4\")\n"
   ],
   "id": "5426533fe6ed98e9",
   "outputs": [
    {
     "name": "stdout",
     "output_type": "stream",
     "text": [
      "WARNING Unable to automatically guess model task, assuming 'task=detect'. Explicitly define task for your model, i.e. 'task=detect', 'segment', 'classify','pose' or 'obb'.\n",
      "Loading yolo11n_openvino_model for OpenVINO inference...\n",
      "Using OpenVINO LATENCY mode for batch=1 inference on GPU.0...\n",
      "✅ Hasil deteksi tersimpan di output_detect.mp4\n"
     ]
    }
   ],
   "execution_count": 11
  },
  {
   "metadata": {},
   "cell_type": "code",
   "outputs": [],
   "execution_count": null,
   "source": "",
   "id": "9591e82c59455ded"
  }
 ],
 "metadata": {
  "kernelspec": {
   "display_name": "Python 3",
   "language": "python",
   "name": "python3"
  },
  "language_info": {
   "codemirror_mode": {
    "name": "ipython",
    "version": 2
   },
   "file_extension": ".py",
   "mimetype": "text/x-python",
   "name": "python",
   "nbconvert_exporter": "python",
   "pygments_lexer": "ipython2",
   "version": "2.7.6"
  }
 },
 "nbformat": 4,
 "nbformat_minor": 5
}
